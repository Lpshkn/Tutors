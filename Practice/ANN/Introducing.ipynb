{
 "cells": [
  {
   "cell_type": "code",
   "execution_count": 1,
   "id": "9c227186",
   "metadata": {},
   "outputs": [],
   "source": [
    "import numpy as np\n",
    "from sklearn.datasets import load_iris\n",
    "from sklearn.linear_model import Perceptron\n",
    "import matplotlib.pyplot as plt\n",
    "import pandas as pd"
   ]
  },
  {
   "cell_type": "code",
   "execution_count": 2,
   "id": "ab95a3eb",
   "metadata": {},
   "outputs": [],
   "source": [
    "iris = load_iris()"
   ]
  },
  {
   "cell_type": "code",
   "execution_count": 3,
   "id": "40d54373",
   "metadata": {},
   "outputs": [],
   "source": [
    "X = iris.data[:, (2, 3)]\n",
    "y = (iris.target == 0).astype(np.int)"
   ]
  },
  {
   "cell_type": "code",
   "execution_count": 4,
   "id": "81b573db",
   "metadata": {},
   "outputs": [
    {
     "data": {
      "text/plain": [
       "Perceptron()"
      ]
     },
     "execution_count": 4,
     "metadata": {},
     "output_type": "execute_result"
    }
   ],
   "source": [
    "clf = Perceptron(max_iter=1000)\n",
    "clf.fit(X, y)"
   ]
  },
  {
   "cell_type": "code",
   "execution_count": 5,
   "id": "a5e689ef",
   "metadata": {
    "scrolled": true
   },
   "outputs": [
    {
     "data": {
      "text/plain": [
       "array([0])"
      ]
     },
     "execution_count": 5,
     "metadata": {},
     "output_type": "execute_result"
    }
   ],
   "source": [
    "clf.predict([[2, 0.5]])"
   ]
  },
  {
   "cell_type": "markdown",
   "id": "82edbc58",
   "metadata": {},
   "source": [
    "# Keras"
   ]
  },
  {
   "cell_type": "code",
   "execution_count": 6,
   "id": "a5e18a7a",
   "metadata": {},
   "outputs": [
    {
     "name": "stderr",
     "output_type": "stream",
     "text": [
      "2021-09-20 00:00:59.146265: I tensorflow/stream_executor/platform/default/dso_loader.cc:53] Successfully opened dynamic library libcudart.so.11.0\n"
     ]
    }
   ],
   "source": [
    "import tensorflow as tf\n",
    "from tensorflow import keras"
   ]
  },
  {
   "cell_type": "markdown",
   "id": "a12bc9ff",
   "metadata": {},
   "source": [
    "В Keras имеется возможность загрузить датасет прямо из модуля."
   ]
  },
  {
   "cell_type": "code",
   "execution_count": 7,
   "id": "039f091a",
   "metadata": {},
   "outputs": [],
   "source": [
    "fashion_mnist = keras.datasets.fashion_mnist.load_data()\n",
    "(X_train, y_train), (X_test, y_test) = fashion_mnist"
   ]
  },
  {
   "cell_type": "code",
   "execution_count": 8,
   "id": "a1a1ed00",
   "metadata": {},
   "outputs": [
    {
     "data": {
      "text/plain": [
       "array([9, 0, 0, ..., 3, 0, 5], dtype=uint8)"
      ]
     },
     "execution_count": 8,
     "metadata": {},
     "output_type": "execute_result"
    }
   ],
   "source": [
    "y_train"
   ]
  },
  {
   "cell_type": "code",
   "execution_count": 9,
   "id": "fd469701",
   "metadata": {},
   "outputs": [
    {
     "data": {
      "text/plain": [
       "(60000, 28, 28)"
      ]
     },
     "execution_count": 9,
     "metadata": {},
     "output_type": "execute_result"
    }
   ],
   "source": [
    "X_train.shape"
   ]
  },
  {
   "cell_type": "code",
   "execution_count": 10,
   "id": "eafa55a8",
   "metadata": {},
   "outputs": [],
   "source": [
    "X_val, X_train = X_train[:5000] / 255.0, X_train[5000:] / 255.0\n",
    "y_val, y_train = y_train[:5000], y_train[5000:]"
   ]
  },
  {
   "cell_type": "code",
   "execution_count": 11,
   "id": "d141b075",
   "metadata": {},
   "outputs": [],
   "source": [
    "classes = [\"T-shirt/top\", \"Trouser\", \"Pullover\", \"Dress\", \"Coat\",\n",
    "           \"Sandal\", \"Shirt\", \"Sneaker\", \"Bag\", \"Ankle boot\"]"
   ]
  },
  {
   "cell_type": "markdown",
   "id": "b003e536",
   "metadata": {},
   "source": [
    "Далее составим простую модель. Как можно видеть, функция активации может задаваться как через модуль `keras.activations`, так и строкой."
   ]
  },
  {
   "cell_type": "code",
   "execution_count": 14,
   "id": "dbbf6d0f",
   "metadata": {},
   "outputs": [],
   "source": [
    "model = keras.models.Sequential()\n",
    "model.add(keras.layers.Flatten(input_shape=[28, 28]))\n",
    "model.add(keras.layers.Dense(300, activation=keras.activations.relu))\n",
    "model.add(keras.layers.Dense(100, activation='relu'))\n",
    "model.add(keras.layers.Dense(10, activation='softmax'))"
   ]
  },
  {
   "cell_type": "markdown",
   "id": "9e3353ef",
   "metadata": {},
   "source": [
    "Получить сведения о созданной сети можно через метод `summary`."
   ]
  },
  {
   "cell_type": "code",
   "execution_count": 15,
   "id": "b99ed789",
   "metadata": {},
   "outputs": [
    {
     "name": "stdout",
     "output_type": "stream",
     "text": [
      "Model: \"sequential_1\"\n",
      "_________________________________________________________________\n",
      "Layer (type)                 Output Shape              Param #   \n",
      "=================================================================\n",
      "flatten_1 (Flatten)          (None, 784)               0         \n",
      "_________________________________________________________________\n",
      "dense_3 (Dense)              (None, 300)               235500    \n",
      "_________________________________________________________________\n",
      "dense_4 (Dense)              (None, 100)               30100     \n",
      "_________________________________________________________________\n",
      "dense_5 (Dense)              (None, 10)                1010      \n",
      "=================================================================\n",
      "Total params: 266,610\n",
      "Trainable params: 266,610\n",
      "Non-trainable params: 0\n",
      "_________________________________________________________________\n"
     ]
    }
   ],
   "source": [
    "model.summary()"
   ]
  },
  {
   "cell_type": "markdown",
   "id": "1b08c42e",
   "metadata": {},
   "source": [
    "Функция `keras.utils.plot_model` позволяет построить граф сети."
   ]
  },
  {
   "cell_type": "code",
   "execution_count": 16,
   "id": "3dcfe15d",
   "metadata": {},
   "outputs": [
    {
     "data": {
      "image/png": "[encoded data removed]",
      "text/plain": [
       "<IPython.core.display.Image object>"
      ]
     },
     "execution_count": 16,
     "metadata": {},
     "output_type": "execute_result"
    }
   ],
   "source": [
    "keras.utils.plot_model(model, \"my_fashion_mnist_model.png\", show_shapes=True)"
   ]
  },
  {
   "cell_type": "code",
   "execution_count": 17,
   "id": "1fb37ced",
   "metadata": {},
   "outputs": [
    {
     "data": {
      "text/plain": [
       "[<tensorflow.python.keras.layers.core.Flatten at 0x7f1c34140fa0>,\n",
       " <tensorflow.python.keras.layers.core.Dense at 0x7f1cfc0e3ca0>,\n",
       " <tensorflow.python.keras.layers.core.Dense at 0x7f1c34106400>,\n",
       " <tensorflow.python.keras.layers.core.Dense at 0x7f1c184dff40>]"
      ]
     },
     "execution_count": 17,
     "metadata": {},
     "output_type": "execute_result"
    }
   ],
   "source": [
    "model.layers"
   ]
  },
  {
   "cell_type": "markdown",
   "id": "1d820d7a",
   "metadata": {},
   "source": [
    "Метод `get_weights` для `Dense` слоя возвращает не только веса, связанные с предыдущим слоем, но и веса, связанные с нейроном смещения."
   ]
  },
  {
   "cell_type": "code",
   "execution_count": 18,
   "id": "4c0157fe",
   "metadata": {},
   "outputs": [
    {
     "data": {
      "text/plain": [
       "[array([[-1.02060832e-01,  1.00589879e-01, -2.60874629e-03, ...,\n",
       "          6.68611452e-02,  4.03225422e-05,  7.54109547e-02],\n",
       "        [ 2.59622112e-02, -1.50591210e-02, -7.56777823e-04, ...,\n",
       "          5.49593791e-02, -1.01284839e-01,  4.41957489e-02],\n",
       "        [ 1.17087491e-01, -9.15390998e-02, -7.23466575e-02, ...,\n",
       "         -2.74334028e-02, -8.02379549e-02,  8.16009268e-02],\n",
       "        ...,\n",
       "        [ 4.06885669e-02, -1.07567787e-01,  6.22393563e-02, ...,\n",
       "         -1.10071175e-01, -3.46610695e-02,  7.27725700e-02],\n",
       "        [ 1.27558410e-03, -4.73120511e-02,  6.66608885e-02, ...,\n",
       "          3.03922370e-02, -7.48967677e-02, -2.43880004e-02],\n",
       "        [ 7.66754076e-02,  1.03446320e-02,  7.85665289e-02, ...,\n",
       "         -7.02558979e-02,  3.03980485e-02,  7.75852054e-03]], dtype=float32),\n",
       " array([0., 0., 0., 0., 0., 0., 0., 0., 0., 0., 0., 0., 0., 0., 0., 0., 0.,\n",
       "        0., 0., 0., 0., 0., 0., 0., 0., 0., 0., 0., 0., 0., 0., 0., 0., 0.,\n",
       "        0., 0., 0., 0., 0., 0., 0., 0., 0., 0., 0., 0., 0., 0., 0., 0., 0.,\n",
       "        0., 0., 0., 0., 0., 0., 0., 0., 0., 0., 0., 0., 0., 0., 0., 0., 0.,\n",
       "        0., 0., 0., 0., 0., 0., 0., 0., 0., 0., 0., 0., 0., 0., 0., 0., 0.,\n",
       "        0., 0., 0., 0., 0., 0., 0., 0., 0., 0., 0., 0., 0., 0., 0.],\n",
       "       dtype=float32)]"
      ]
     },
     "execution_count": 18,
     "metadata": {},
     "output_type": "execute_result"
    }
   ],
   "source": [
    "model.layers[2].get_weights()"
   ]
  },
  {
   "cell_type": "markdown",
   "id": "00d6ae24",
   "metadata": {},
   "source": [
    "Веса между слоями инициализируются **случайно** для того, чтобы разрушить симметрию. На самом деле мы можем самостоятельно задать способ иницилизации весов с помощью параметра `kernel_initializer` (название `kernel` - это другое название матрицы весов). При этом, заметим, что вектор весов смещения иницилизируются **нулём** - это нормально. Это значение, к слову, тоже можно изменить с помощью параметра `bias_initializer`. Всё это выполняется при создании слоя."
   ]
  },
  {
   "cell_type": "markdown",
   "id": "752b1d79",
   "metadata": {},
   "source": [
    "После создания модели, мы можем её скомпилировать, вызвав метод `compile`."
   ]
  },
  {
   "cell_type": "code",
   "execution_count": 19,
   "id": "b23eb6b3",
   "metadata": {},
   "outputs": [],
   "source": [
    "model.compile(loss=keras.losses.sparse_categorical_crossentropy, optimizer='sgd', metrics=['accuracy'])"
   ]
  },
  {
   "cell_type": "code",
   "execution_count": 20,
   "id": "6aecdeba",
   "metadata": {
    "scrolled": true
   },
   "outputs": [
    {
     "name": "stderr",
     "output_type": "stream",
     "text": [
      "2021-09-20 00:01:18.117454: I tensorflow/compiler/mlir/mlir_graph_optimization_pass.cc:176] None of the MLIR Optimization Passes are enabled (registered 2)\n",
      "2021-09-20 00:01:18.133971: I tensorflow/core/platform/profile_utils/cpu_utils.cc:114] CPU Frequency: 2400500000 Hz\n"
     ]
    },
    {
     "name": "stdout",
     "output_type": "stream",
     "text": [
      "Epoch 1/30\n",
      "1719/1719 [==============================] - 2s 1ms/step - loss: 0.7257 - accuracy: 0.7639 - val_loss: 0.5282 - val_accuracy: 0.8142\n",
      "Epoch 2/30\n",
      "1719/1719 [==============================] - 2s 1ms/step - loss: 0.4921 - accuracy: 0.8276 - val_loss: 0.4855 - val_accuracy: 0.8210\n",
      "Epoch 3/30\n",
      "1719/1719 [==============================] - 2s 1ms/step - loss: 0.4452 - accuracy: 0.8451 - val_loss: 0.4240 - val_accuracy: 0.8528\n",
      "Epoch 4/30\n",
      "1719/1719 [==============================] - 2s 1ms/step - loss: 0.4167 - accuracy: 0.8555 - val_loss: 0.3920 - val_accuracy: 0.8646\n",
      "Epoch 5/30\n",
      "1719/1719 [==============================] - 2s 1ms/step - loss: 0.3970 - accuracy: 0.8610 - val_loss: 0.4026 - val_accuracy: 0.8588\n",
      "Epoch 6/30\n",
      "1719/1719 [==============================] - 2s 1ms/step - loss: 0.3806 - accuracy: 0.8645 - val_loss: 0.4193 - val_accuracy: 0.8470\n",
      "Epoch 7/30\n",
      "1719/1719 [==============================] - 2s 1ms/step - loss: 0.3669 - accuracy: 0.8712 - val_loss: 0.3588 - val_accuracy: 0.8746\n",
      "Epoch 8/30\n",
      "1719/1719 [==============================] - 2s 1ms/step - loss: 0.3554 - accuracy: 0.8738 - val_loss: 0.3540 - val_accuracy: 0.8736\n",
      "Epoch 9/30\n",
      "1719/1719 [==============================] - 2s 1ms/step - loss: 0.3445 - accuracy: 0.8775 - val_loss: 0.3650 - val_accuracy: 0.8726\n",
      "Epoch 10/30\n",
      "1719/1719 [==============================] - 2s 1ms/step - loss: 0.3351 - accuracy: 0.8810 - val_loss: 0.3583 - val_accuracy: 0.8740\n",
      "Epoch 11/30\n",
      "1719/1719 [==============================] - 2s 1ms/step - loss: 0.3266 - accuracy: 0.8819 - val_loss: 0.3508 - val_accuracy: 0.8756\n",
      "Epoch 12/30\n",
      "1719/1719 [==============================] - 2s 1ms/step - loss: 0.3181 - accuracy: 0.8870 - val_loss: 0.3401 - val_accuracy: 0.8812\n",
      "Epoch 13/30\n",
      "1719/1719 [==============================] - 2s 1ms/step - loss: 0.3113 - accuracy: 0.8892 - val_loss: 0.3298 - val_accuracy: 0.8838\n",
      "Epoch 14/30\n",
      "1719/1719 [==============================] - 2s 1ms/step - loss: 0.3044 - accuracy: 0.8910 - val_loss: 0.3263 - val_accuracy: 0.8844\n",
      "Epoch 15/30\n",
      "1719/1719 [==============================] - 2s 1ms/step - loss: 0.2979 - accuracy: 0.8941 - val_loss: 0.3284 - val_accuracy: 0.8828\n",
      "Epoch 16/30\n",
      "1719/1719 [==============================] - 2s 1ms/step - loss: 0.2910 - accuracy: 0.8947 - val_loss: 0.3344 - val_accuracy: 0.8784\n",
      "Epoch 17/30\n",
      "1719/1719 [==============================] - 2s 1ms/step - loss: 0.2862 - accuracy: 0.8980 - val_loss: 0.3137 - val_accuracy: 0.8888\n",
      "Epoch 18/30\n",
      "1719/1719 [==============================] - 2s 1ms/step - loss: 0.2802 - accuracy: 0.8991 - val_loss: 0.3236 - val_accuracy: 0.8790\n",
      "Epoch 19/30\n",
      "1719/1719 [==============================] - 2s 1ms/step - loss: 0.2751 - accuracy: 0.9015 - val_loss: 0.3021 - val_accuracy: 0.8924\n",
      "Epoch 20/30\n",
      "1719/1719 [==============================] - 2s 1ms/step - loss: 0.2688 - accuracy: 0.9031 - val_loss: 0.3115 - val_accuracy: 0.8856\n",
      "Epoch 21/30\n",
      "1719/1719 [==============================] - 2s 1ms/step - loss: 0.2650 - accuracy: 0.9047 - val_loss: 0.2986 - val_accuracy: 0.8908\n",
      "Epoch 22/30\n",
      "1719/1719 [==============================] - 2s 1ms/step - loss: 0.2604 - accuracy: 0.9069 - val_loss: 0.3089 - val_accuracy: 0.8884\n",
      "Epoch 23/30\n",
      "1719/1719 [==============================] - 2s 1ms/step - loss: 0.2547 - accuracy: 0.9088 - val_loss: 0.3163 - val_accuracy: 0.8850\n",
      "Epoch 24/30\n",
      "1719/1719 [==============================] - 2s 1ms/step - loss: 0.2501 - accuracy: 0.9104 - val_loss: 0.3001 - val_accuracy: 0.8906\n",
      "Epoch 25/30\n",
      "1719/1719 [==============================] - 2s 1ms/step - loss: 0.2457 - accuracy: 0.9130 - val_loss: 0.3082 - val_accuracy: 0.8926\n",
      "Epoch 26/30\n",
      "1719/1719 [==============================] - 2s 1ms/step - loss: 0.2417 - accuracy: 0.9129 - val_loss: 0.3084 - val_accuracy: 0.8914\n",
      "Epoch 27/30\n",
      "1719/1719 [==============================] - 2s 1ms/step - loss: 0.2384 - accuracy: 0.9148 - val_loss: 0.2944 - val_accuracy: 0.8958\n",
      "Epoch 28/30\n",
      "1719/1719 [==============================] - 2s 1ms/step - loss: 0.2344 - accuracy: 0.9175 - val_loss: 0.2963 - val_accuracy: 0.8926\n",
      "Epoch 29/30\n",
      "1719/1719 [==============================] - 2s 1ms/step - loss: 0.2293 - accuracy: 0.9177 - val_loss: 0.2908 - val_accuracy: 0.8938\n",
      "Epoch 30/30\n",
      "1719/1719 [==============================] - 2s 1ms/step - loss: 0.2269 - accuracy: 0.9179 - val_loss: 0.2899 - val_accuracy: 0.8964\n"
     ]
    },
    {
     "data": {
      "text/plain": [
       "<tensorflow.python.keras.callbacks.History at 0x7f1c184906a0>"
      ]
     },
     "execution_count": 20,
     "metadata": {},
     "output_type": "execute_result"
    }
   ],
   "source": [
    "model.fit(X_train, y_train, epochs=30, validation_data=(X_val, y_val),\n",
    "          use_multiprocessing=True, workers=4)"
   ]
  },
  {
   "cell_type": "code",
   "execution_count": 21,
   "id": "496280d1",
   "metadata": {},
   "outputs": [
    {
     "name": "stdout",
     "output_type": "stream",
     "text": [
      "313/313 [==============================] - 0s 923us/step - loss: 68.4000 - accuracy: 0.8423\n"
     ]
    },
    {
     "data": {
      "text/plain": [
       "[68.40003967285156, 0.8422999978065491]"
      ]
     },
     "execution_count": 21,
     "metadata": {},
     "output_type": "execute_result"
    }
   ],
   "source": [
    "model.evaluate(X_test, y_test)"
   ]
  },
  {
   "cell_type": "code",
   "execution_count": 22,
   "id": "b8afffd6",
   "metadata": {},
   "outputs": [
    {
     "data": {
      "text/plain": [
       "array([9, 2, 1])"
      ]
     },
     "execution_count": 22,
     "metadata": {},
     "output_type": "execute_result"
    }
   ],
   "source": [
    "np.argmax(model.predict(X_test[:3]), axis=1)"
   ]
  },
  {
   "cell_type": "markdown",
   "id": "07720e0f",
   "metadata": {},
   "source": [
    "В коде выше мы используем `sparse_categorical_crossentropy` потерю, т.к. наши целевые метки разреженные, в противном случае мы бы использовали `categorical_crossentropy`."
   ]
  },
  {
   "cell_type": "markdown",
   "id": "a996a88a",
   "metadata": {},
   "source": [
    "Если бы мы осуществляли бинарную классификацию, то использовали бы `sigmoid` функцию активации в выходном слое вместо `softmax` и `binary_crossentropy` потерю."
   ]
  },
  {
   "cell_type": "markdown",
   "id": "d2bcd3bf",
   "metadata": {},
   "source": [
    "Вместо того, чтобы задавать валидационную выборку через `validation_data` аргумент, можно задать аргумент `validation_split`, которые просто выделит часть из тренировочного сета на валидационную выборку."
   ]
  },
  {
   "cell_type": "code",
   "execution_count": 23,
   "id": "bc59ed30",
   "metadata": {
    "scrolled": true
   },
   "outputs": [
    {
     "name": "stdout",
     "output_type": "stream",
     "text": [
      "1375/1375 [==============================] - 2s 1ms/step - loss: 0.2201 - accuracy: 0.9221 - val_loss: 0.2517 - val_accuracy: 0.9062\n"
     ]
    },
    {
     "data": {
      "text/plain": [
       "<tensorflow.python.keras.callbacks.History at 0x7f1c0c53cb80>"
      ]
     },
     "execution_count": 23,
     "metadata": {},
     "output_type": "execute_result"
    }
   ],
   "source": [
    "model.compile(loss=keras.losses.sparse_categorical_crossentropy, optimizer='sgd', metrics=['accuracy'])\n",
    "model.fit(X_train, y_train, validation_split=0.2, epochs=1, workers=4, use_multiprocessing=True)"
   ]
  },
  {
   "cell_type": "markdown",
   "id": "75399703",
   "metadata": {},
   "source": [
    "Теперь решим задачу регрессии"
   ]
  },
  {
   "cell_type": "code",
   "execution_count": 24,
   "id": "ef60dcc9",
   "metadata": {},
   "outputs": [],
   "source": [
    "from sklearn.datasets import fetch_california_housing\n",
    "from sklearn.model_selection import train_test_split\n",
    "from sklearn.preprocessing import StandardScaler"
   ]
  },
  {
   "cell_type": "code",
   "execution_count": 25,
   "id": "08484fee",
   "metadata": {},
   "outputs": [],
   "source": [
    "housing = fetch_california_housing()"
   ]
  },
  {
   "cell_type": "code",
   "execution_count": 26,
   "id": "2f4efe83",
   "metadata": {},
   "outputs": [],
   "source": [
    "X_train, X_test, y_train, y_test = train_test_split(housing.data, housing.target)\n",
    "X_train, X_val, y_train, y_val = train_test_split(X_train, y_train)"
   ]
  },
  {
   "cell_type": "code",
   "execution_count": 27,
   "id": "87af57be",
   "metadata": {},
   "outputs": [],
   "source": [
    "scaler = StandardScaler()\n",
    "X_train = scaler.fit_transform(X_train)\n",
    "X_val = scaler.transform(X_val)\n",
    "X_test = scaler.transform(X_test)"
   ]
  },
  {
   "cell_type": "code",
   "execution_count": 28,
   "id": "1da73913",
   "metadata": {},
   "outputs": [],
   "source": [
    "model = keras.models.Sequential([\n",
    "    keras.layers.Dense(30, activation='relu', input_shape=X_train.shape[1:]),\n",
    "    keras.layers.Dense(1)\n",
    "])"
   ]
  },
  {
   "cell_type": "code",
   "execution_count": 29,
   "id": "65a58817",
   "metadata": {},
   "outputs": [],
   "source": [
    "model.compile(loss=keras.losses.mean_squared_error, optimizer=keras.optimizers.SGD(learning_rate=0.003))"
   ]
  },
  {
   "cell_type": "code",
   "execution_count": 30,
   "id": "b10c7ea3",
   "metadata": {},
   "outputs": [
    {
     "name": "stdout",
     "output_type": "stream",
     "text": [
      "Epoch 1/20\n",
      "363/363 [==============================] - 0s 651us/step - loss: 1.2452 - val_loss: 0.6455\n",
      "Epoch 2/20\n",
      "363/363 [==============================] - 0s 498us/step - loss: 0.6039 - val_loss: 0.5666\n",
      "Epoch 3/20\n",
      "363/363 [==============================] - 0s 511us/step - loss: 0.5715 - val_loss: 0.5251\n",
      "Epoch 4/20\n",
      "363/363 [==============================] - 0s 497us/step - loss: 0.5219 - val_loss: 0.5069\n",
      "Epoch 5/20\n",
      "363/363 [==============================] - 0s 481us/step - loss: 0.5017 - val_loss: 0.4941\n",
      "Epoch 6/20\n",
      "363/363 [==============================] - 0s 500us/step - loss: 0.4921 - val_loss: 0.4824\n",
      "Epoch 7/20\n",
      "363/363 [==============================] - 0s 495us/step - loss: 0.4821 - val_loss: 0.4744\n",
      "Epoch 8/20\n",
      "363/363 [==============================] - 0s 500us/step - loss: 0.4715 - val_loss: 0.4674\n",
      "Epoch 9/20\n",
      "363/363 [==============================] - 0s 495us/step - loss: 0.4728 - val_loss: 0.4652\n",
      "Epoch 10/20\n",
      "363/363 [==============================] - 0s 500us/step - loss: 0.4658 - val_loss: 0.4660\n",
      "Epoch 11/20\n",
      "363/363 [==============================] - 0s 504us/step - loss: 0.4581 - val_loss: 0.4572\n",
      "Epoch 12/20\n",
      "363/363 [==============================] - 0s 504us/step - loss: 0.4558 - val_loss: 0.4630\n",
      "Epoch 13/20\n",
      "363/363 [==============================] - 0s 502us/step - loss: 0.4545 - val_loss: 0.4500\n",
      "Epoch 14/20\n",
      "363/363 [==============================] - 0s 498us/step - loss: 0.4484 - val_loss: 0.4510\n",
      "Epoch 15/20\n",
      "363/363 [==============================] - 0s 487us/step - loss: 0.4520 - val_loss: 0.4438\n",
      "Epoch 16/20\n",
      "363/363 [==============================] - 0s 495us/step - loss: 0.4438 - val_loss: 0.4411\n",
      "Epoch 17/20\n",
      "363/363 [==============================] - 0s 511us/step - loss: 0.4396 - val_loss: 0.4380\n",
      "Epoch 18/20\n",
      "363/363 [==============================] - 0s 488us/step - loss: 0.4387 - val_loss: 0.4376\n",
      "Epoch 19/20\n",
      "363/363 [==============================] - 0s 531us/step - loss: 0.4354 - val_loss: 0.4351\n",
      "Epoch 20/20\n",
      "363/363 [==============================] - 0s 493us/step - loss: 0.4322 - val_loss: 0.4331\n"
     ]
    }
   ],
   "source": [
    "history = model.fit(X_train, y_train, epochs=20, validation_data=(X_val, y_val))"
   ]
  },
  {
   "cell_type": "code",
   "execution_count": 31,
   "id": "dafe8689",
   "metadata": {},
   "outputs": [
    {
     "name": "stdout",
     "output_type": "stream",
     "text": [
      "162/162 [==============================] - 0s 375us/step - loss: 0.4421\n"
     ]
    },
    {
     "data": {
      "text/plain": [
       "array([[2.1059551],\n",
       "       [1.7244781],\n",
       "       [2.7315488]], dtype=float32)"
      ]
     },
     "execution_count": 31,
     "metadata": {},
     "output_type": "execute_result"
    }
   ],
   "source": [
    "model.evaluate(X_test, y_test)\n",
    "model.predict(X_test[:3])"
   ]
  },
  {
   "cell_type": "code",
   "execution_count": 32,
   "id": "cd307371",
   "metadata": {},
   "outputs": [
    {
     "data": {
      "image/png": "[encoded data removed]",
      "text/plain": [
       "<Figure size 432x288 with 1 Axes>"
      ]
     },
     "metadata": {
      "needs_background": "light"
     },
     "output_type": "display_data"
    }
   ],
   "source": [
    "plt.plot(pd.DataFrame(history.history))\n",
    "plt.grid(True)\n",
    "plt.gca().set_ylim(0, 1)\n",
    "plt.show()"
   ]
  },
  {
   "cell_type": "markdown",
   "id": "4502d6d2",
   "metadata": {},
   "source": [
    "Построение сложных моделей."
   ]
  },
  {
   "cell_type": "markdown",
   "id": "edb8bef8",
   "metadata": {},
   "source": [
    "`Sequential` API очень простое в использовании, однако хоть это и типичная модель, но иногда более полезным будет применение нейронных сетей с более сложной топологией или несколькими входами и выходами. Для этой цели Keras предлагает функциональное API.\n",
    "\n",
    "Один из примеров непоследовательной нейронной сети является **Wide & Deep** нейронная сеть. Она соединяет все или часть входных нейронов напрямую с выходным слоем."
   ]
  },
  {
   "cell_type": "code",
   "execution_count": 33,
   "id": "0895f750",
   "metadata": {},
   "outputs": [],
   "source": [
    "input_ = keras.layers.Input(shape=X_train.shape[1:])\n",
    "hidden1 = keras.layers.Dense(30, activation='relu')(input_)\n",
    "hidden2 = keras.layers.Dense(30, activation='relu')(hidden1)\n",
    "concat = keras.layers.concatenate([input_, hidden2])\n",
    "output = keras.layers.Dense(1)(concat)\n",
    "model = keras.models.Model(inputs=[input_], outputs=[output])"
   ]
  },
  {
   "cell_type": "code",
   "execution_count": 34,
   "id": "60f85e5c",
   "metadata": {},
   "outputs": [
    {
     "name": "stdout",
     "output_type": "stream",
     "text": [
      "Model: \"model\"\n",
      "__________________________________________________________________________________________________\n",
      "Layer (type)                    Output Shape         Param #     Connected to                     \n",
      "==================================================================================================\n",
      "input_1 (InputLayer)            [(None, 8)]          0                                            \n",
      "__________________________________________________________________________________________________\n",
      "dense_8 (Dense)                 (None, 30)           270         input_1[0][0]                    \n",
      "__________________________________________________________________________________________________\n",
      "dense_9 (Dense)                 (None, 30)           930         dense_8[0][0]                    \n",
      "__________________________________________________________________________________________________\n",
      "concatenate (Concatenate)       (None, 38)           0           input_1[0][0]                    \n",
      "                                                                 dense_9[0][0]                    \n",
      "__________________________________________________________________________________________________\n",
      "dense_10 (Dense)                (None, 1)            39          concatenate[0][0]                \n",
      "==================================================================================================\n",
      "Total params: 1,239\n",
      "Trainable params: 1,239\n",
      "Non-trainable params: 0\n",
      "__________________________________________________________________________________________________\n"
     ]
    }
   ],
   "source": [
    "model.summary()"
   ]
  },
  {
   "cell_type": "code",
   "execution_count": 35,
   "id": "55e149c1",
   "metadata": {},
   "outputs": [
    {
     "name": "stdout",
     "output_type": "stream",
     "text": [
      "Epoch 1/20\n",
      "363/363 [==============================] - 0s 729us/step - loss: 1.4709 - val_loss: 0.8172\n",
      "Epoch 2/20\n",
      "363/363 [==============================] - 0s 603us/step - loss: 0.7600 - val_loss: 0.7260\n",
      "Epoch 3/20\n",
      "363/363 [==============================] - 0s 583us/step - loss: 0.6926 - val_loss: 0.6680\n",
      "Epoch 4/20\n",
      "363/363 [==============================] - 0s 576us/step - loss: 0.6440 - val_loss: 0.6251\n",
      "Epoch 5/20\n",
      "363/363 [==============================] - 0s 557us/step - loss: 0.6055 - val_loss: 0.5917\n",
      "Epoch 6/20\n",
      "363/363 [==============================] - 0s 524us/step - loss: 0.5760 - val_loss: 0.5647\n",
      "Epoch 7/20\n",
      "363/363 [==============================] - 0s 554us/step - loss: 0.5519 - val_loss: 0.5432\n",
      "Epoch 8/20\n",
      "363/363 [==============================] - 0s 560us/step - loss: 0.5325 - val_loss: 0.5262\n",
      "Epoch 9/20\n",
      "363/363 [==============================] - 0s 577us/step - loss: 0.5172 - val_loss: 0.5124\n",
      "Epoch 10/20\n",
      "363/363 [==============================] - 0s 573us/step - loss: 0.5045 - val_loss: 0.5019\n",
      "Epoch 11/20\n",
      "363/363 [==============================] - 0s 581us/step - loss: 0.4941 - val_loss: 0.4928\n",
      "Epoch 12/20\n",
      "363/363 [==============================] - 0s 568us/step - loss: 0.4853 - val_loss: 0.4853\n",
      "Epoch 13/20\n",
      "363/363 [==============================] - 0s 581us/step - loss: 0.4777 - val_loss: 0.4790\n",
      "Epoch 14/20\n",
      "363/363 [==============================] - 0s 567us/step - loss: 0.4713 - val_loss: 0.4742\n",
      "Epoch 15/20\n",
      "363/363 [==============================] - 0s 566us/step - loss: 0.4653 - val_loss: 0.4699\n",
      "Epoch 16/20\n",
      "363/363 [==============================] - 0s 585us/step - loss: 0.4603 - val_loss: 0.4642\n",
      "Epoch 17/20\n",
      "363/363 [==============================] - 0s 601us/step - loss: 0.4556 - val_loss: 0.4606\n",
      "Epoch 18/20\n",
      "363/363 [==============================] - 0s 579us/step - loss: 0.4513 - val_loss: 0.4566\n",
      "Epoch 19/20\n",
      "363/363 [==============================] - 0s 574us/step - loss: 0.4475 - val_loss: 0.4536\n",
      "Epoch 20/20\n",
      "363/363 [==============================] - 0s 574us/step - loss: 0.4435 - val_loss: 0.4506\n"
     ]
    }
   ],
   "source": [
    "model.compile(loss='mean_squared_error', optimizer=keras.optimizers.SGD(learning_rate=1e-3))\n",
    "history = model.fit(X_train, y_train, validation_data=(X_val, y_val), epochs=20)"
   ]
  },
  {
   "cell_type": "markdown",
   "id": "38db57b9",
   "metadata": {},
   "source": [
    "Что делать, если мы хотим посылать поднаборы признаков через \"широкий\" путь, а другой - через \"глубокий\"? Тогда надо использовать несколько входов."
   ]
  },
  {
   "cell_type": "code",
   "execution_count": 51,
   "id": "ebabb922",
   "metadata": {},
   "outputs": [],
   "source": [
    "input_A = keras.layers.Input(shape=[5], name='wide_input')\n",
    "input_B = keras.layers.Input(shape=[6], name='deep_input')\n",
    "hidden1 = keras.layers.Dense(30, activation='relu')(input_B)\n",
    "hidden2 = keras.layers.Dense(30, activation='relu')(hidden1)\n",
    "concat = keras.layers.concatenate([input_A, hidden2])\n",
    "output = keras.layers.Dense(1, name='output')(concat)\n",
    "\n",
    "model = keras.models.Model(inputs=[input_A, input_B], outputs=[output])"
   ]
  },
  {
   "cell_type": "code",
   "execution_count": 52,
   "id": "ffa9b9a0",
   "metadata": {},
   "outputs": [],
   "source": [
    "model.compile(loss='mse', optimizer=keras.optimizers.SGD(learning_rate=1e-3))"
   ]
  },
  {
   "cell_type": "markdown",
   "id": "bfca379c",
   "metadata": {},
   "source": [
    "Однако, когда мы будем использовать метод fit, то необходимо посылать пару матриц `(X_train_A, X_train_B)`, либо словарь: `{\"wide_input\": X_train_A, \"deep_input\": X_train_B}`. Точно так же для валидационной и тестовой выборок."
   ]
  },
  {
   "cell_type": "code",
   "execution_count": 53,
   "id": "5e04c9f8",
   "metadata": {},
   "outputs": [],
   "source": [
    "X_train_A, X_train_B = X_train[:, :5], X_train[:, 2:]\n",
    "X_val_A, X_val_B = X_val[:, :5], X_val[:, 2:]\n",
    "X_test_A, X_test_B = X_test[:, :5], X_test[:, 2:]\n",
    "X_new_A, X_new_B = X_test_A[:3], X_test_B[:3]"
   ]
  },
  {
   "cell_type": "code",
   "execution_count": 57,
   "id": "54056068",
   "metadata": {},
   "outputs": [
    {
     "name": "stdout",
     "output_type": "stream",
     "text": [
      "Epoch 1/20\n",
      "363/363 [==============================] - 0s 922us/step - loss: 0.4332 - val_loss: 0.4276\n",
      "Epoch 2/20\n",
      "363/363 [==============================] - 0s 834us/step - loss: 0.4318 - val_loss: 0.4264\n",
      "Epoch 3/20\n",
      "363/363 [==============================] - 0s 839us/step - loss: 0.4310 - val_loss: 0.4258\n",
      "Epoch 4/20\n",
      "363/363 [==============================] - 0s 848us/step - loss: 0.4298 - val_loss: 0.4249\n",
      "Epoch 5/20\n",
      "363/363 [==============================] - 0s 828us/step - loss: 0.4288 - val_loss: 0.4247\n",
      "Epoch 6/20\n",
      "363/363 [==============================] - 0s 829us/step - loss: 0.4278 - val_loss: 0.4235\n",
      "Epoch 7/20\n",
      "363/363 [==============================] - 0s 844us/step - loss: 0.4267 - val_loss: 0.4222\n",
      "Epoch 8/20\n",
      "363/363 [==============================] - 0s 820us/step - loss: 0.4256 - val_loss: 0.4217\n",
      "Epoch 9/20\n",
      "363/363 [==============================] - 0s 822us/step - loss: 0.4246 - val_loss: 0.4198\n",
      "Epoch 10/20\n",
      "363/363 [==============================] - 0s 834us/step - loss: 0.4236 - val_loss: 0.4196\n",
      "Epoch 11/20\n",
      "363/363 [==============================] - 0s 917us/step - loss: 0.4224 - val_loss: 0.4195\n",
      "Epoch 12/20\n",
      "363/363 [==============================] - 0s 845us/step - loss: 0.4214 - val_loss: 0.4177\n",
      "Epoch 13/20\n",
      "363/363 [==============================] - 0s 827us/step - loss: 0.4205 - val_loss: 0.4170\n",
      "Epoch 14/20\n",
      "363/363 [==============================] - 0s 861us/step - loss: 0.4194 - val_loss: 0.4161\n",
      "Epoch 15/20\n",
      "363/363 [==============================] - 0s 853us/step - loss: 0.4183 - val_loss: 0.4161\n",
      "Epoch 16/20\n",
      "363/363 [==============================] - 0s 848us/step - loss: 0.4174 - val_loss: 0.4149\n",
      "Epoch 17/20\n",
      "363/363 [==============================] - 0s 856us/step - loss: 0.4164 - val_loss: 0.4130\n",
      "Epoch 18/20\n",
      "363/363 [==============================] - 0s 823us/step - loss: 0.4155 - val_loss: 0.4128\n",
      "Epoch 19/20\n",
      "363/363 [==============================] - 0s 826us/step - loss: 0.4147 - val_loss: 0.4109\n",
      "Epoch 20/20\n",
      "363/363 [==============================] - 0s 836us/step - loss: 0.4136 - val_loss: 0.4100\n"
     ]
    }
   ],
   "source": [
    "history = model.fit((X_train_A, X_train_B), y_train, epochs=20,\n",
    "                    validation_data=((X_val_A, X_val_B), y_val))"
   ]
  },
  {
   "cell_type": "code",
   "execution_count": 58,
   "id": "00b0bd5a",
   "metadata": {},
   "outputs": [
    {
     "name": "stdout",
     "output_type": "stream",
     "text": [
      "162/162 [==============================] - 0s 606us/step - loss: 0.4221\n"
     ]
    }
   ],
   "source": [
    "mse_test = model.evaluate((X_test_A, X_test_B), y_test)\n",
    "y_pred = model.predict((X_new_A, X_new_B))"
   ]
  },
  {
   "cell_type": "code",
   "execution_count": 59,
   "id": "4e20fb1b",
   "metadata": {},
   "outputs": [
    {
     "data": {
      "text/plain": [
       "array([[1.9570028],\n",
       "       [2.026874 ],\n",
       "       [2.5741   ]], dtype=float32)"
      ]
     },
     "execution_count": 59,
     "metadata": {},
     "output_type": "execute_result"
    }
   ],
   "source": [
    "y_pred"
   ]
  },
  {
   "cell_type": "markdown",
   "id": "bdc9ed13",
   "metadata": {},
   "source": [
    "Может также потребоваться использовать несколько выходов: \n",
    "\n",
    "- К примеру, этого требует задача: определение координаты и классификации изображения.\n",
    "- Аналогично, вы можете иметь несколько независимых задач, основанные на одинаковых данных. Конечно, можно обучать нейросеть под каждую задачу, но в большинстве случаев вы получите лучшие результаты на всех задачах, обучая одну нейросеть с одним выходом под каждую задачу. К примеру, можно обучить многозадачную классификацию на изображениях лиц, используя один выход для классификации каждой эмоции (улыбка, удивление и т.д.) и второй для классификации того, имеются ли очки (к примеру).\n",
    "- Можно использовать дополнительный выход для регуляризации: к примеру, можно предположить, что нижняя часть сети обучается чему-то полезному уже сама и ей не нужна остальная часть сети. Это позволяет избавиться от излишней сложности сети и переобучения."
   ]
  },
  {
   "cell_type": "code",
   "execution_count": 74,
   "id": "7ced14ae",
   "metadata": {},
   "outputs": [],
   "source": [
    "input_A = keras.layers.Input(shape=[5], name=\"wide_input\")\n",
    "input_B = keras.layers.Input(shape=[6], name=\"deep_input\")\n",
    "hidden_1 = keras.layers.Dense(30, activation='relu')(input_B)\n",
    "hidden_2 = keras.layers.Dense(30, activation='relu')(hidden_1)\n",
    "concat = keras.layers.concatenate([input_A, hidden_2])\n",
    "output = keras.layers.Dense(1, name='main_output')(concat)\n",
    "aux_output = keras.layers.Dense(1, name='aux_output')(hidden_2)\n",
    "model = keras.models.Model(inputs=[input_A, input_B],\n",
    "                           outputs=[output, aux_output])"
   ]
  },
  {
   "cell_type": "code",
   "execution_count": 75,
   "id": "49814ae8",
   "metadata": {},
   "outputs": [],
   "source": [
    "model.compile(loss=['mse', 'mse'], loss_weights=[0.9, 0.1],\n",
    "              optimizer=keras.optimizers.SGD(learning_rate=1e-3))"
   ]
  },
  {
   "cell_type": "code",
   "execution_count": 77,
   "id": "bd44a6f5",
   "metadata": {},
   "outputs": [
    {
     "name": "stdout",
     "output_type": "stream",
     "text": [
      "Epoch 1/20\n",
      "363/363 [==============================] - 1s 2ms/step - loss: 0.5269 - main_output_loss: 0.4819 - aux_output_loss: 0.9318 - val_loss: 0.5208 - val_main_output_loss: 0.4748 - val_aux_output_loss: 0.9345\n",
      "Epoch 2/20\n",
      "363/363 [==============================] - 1s 1ms/step - loss: 0.5243 - main_output_loss: 0.4800 - aux_output_loss: 0.9233 - val_loss: 0.5191 - val_main_output_loss: 0.4740 - val_aux_output_loss: 0.9255\n",
      "Epoch 3/20\n",
      "363/363 [==============================] - 1s 1ms/step - loss: 0.5218 - main_output_loss: 0.4781 - aux_output_loss: 0.9154 - val_loss: 0.5165 - val_main_output_loss: 0.4720 - val_aux_output_loss: 0.9167\n",
      "Epoch 4/20\n",
      "363/363 [==============================] - 1s 1ms/step - loss: 0.5194 - main_output_loss: 0.4762 - aux_output_loss: 0.9077 - val_loss: 0.5139 - val_main_output_loss: 0.4701 - val_aux_output_loss: 0.9084\n",
      "Epoch 5/20\n",
      "363/363 [==============================] - 1s 2ms/step - loss: 0.5170 - main_output_loss: 0.4746 - aux_output_loss: 0.8991 - val_loss: 0.5125 - val_main_output_loss: 0.4694 - val_aux_output_loss: 0.9005\n",
      "Epoch 6/20\n",
      "363/363 [==============================] - 1s 2ms/step - loss: 0.5151 - main_output_loss: 0.4734 - aux_output_loss: 0.8909 - val_loss: 0.5109 - val_main_output_loss: 0.4685 - val_aux_output_loss: 0.8927\n",
      "Epoch 7/20\n",
      "363/363 [==============================] - 1s 1ms/step - loss: 0.5129 - main_output_loss: 0.4717 - aux_output_loss: 0.8838 - val_loss: 0.5079 - val_main_output_loss: 0.4660 - val_aux_output_loss: 0.8854\n",
      "Epoch 8/20\n",
      "363/363 [==============================] - 1s 1ms/step - loss: 0.5111 - main_output_loss: 0.4706 - aux_output_loss: 0.8754 - val_loss: 0.5069 - val_main_output_loss: 0.4656 - val_aux_output_loss: 0.8778\n",
      "Epoch 9/20\n",
      "363/363 [==============================] - 1s 1ms/step - loss: 0.5087 - main_output_loss: 0.4686 - aux_output_loss: 0.8695 - val_loss: 0.5042 - val_main_output_loss: 0.4635 - val_aux_output_loss: 0.8706\n",
      "Epoch 10/20\n",
      "363/363 [==============================] - 1s 2ms/step - loss: 0.5065 - main_output_loss: 0.4670 - aux_output_loss: 0.8620 - val_loss: 0.5025 - val_main_output_loss: 0.4624 - val_aux_output_loss: 0.8632\n",
      "Epoch 11/20\n",
      "363/363 [==============================] - 1s 1ms/step - loss: 0.5048 - main_output_loss: 0.4658 - aux_output_loss: 0.8556 - val_loss: 0.5014 - val_main_output_loss: 0.4619 - val_aux_output_loss: 0.8566\n",
      "Epoch 12/20\n",
      "363/363 [==============================] - 1s 1ms/step - loss: 0.5029 - main_output_loss: 0.4644 - aux_output_loss: 0.8487 - val_loss: 0.4988 - val_main_output_loss: 0.4599 - val_aux_output_loss: 0.8494\n",
      "Epoch 13/20\n",
      "363/363 [==============================] - 1s 1ms/step - loss: 0.5011 - main_output_loss: 0.4632 - aux_output_loss: 0.8421 - val_loss: 0.4979 - val_main_output_loss: 0.4596 - val_aux_output_loss: 0.8428\n",
      "Epoch 14/20\n",
      "363/363 [==============================] - 1s 1ms/step - loss: 0.4992 - main_output_loss: 0.4619 - aux_output_loss: 0.8348 - val_loss: 0.4956 - val_main_output_loss: 0.4579 - val_aux_output_loss: 0.8352\n",
      "Epoch 15/20\n",
      "363/363 [==============================] - 1s 1ms/step - loss: 0.4971 - main_output_loss: 0.4603 - aux_output_loss: 0.8287 - val_loss: 0.4939 - val_main_output_loss: 0.4568 - val_aux_output_loss: 0.8278\n",
      "Epoch 16/20\n",
      "363/363 [==============================] - 1s 1ms/step - loss: 0.4954 - main_output_loss: 0.4592 - aux_output_loss: 0.8214 - val_loss: 0.4920 - val_main_output_loss: 0.4552 - val_aux_output_loss: 0.8227\n",
      "Epoch 17/20\n",
      "363/363 [==============================] - 1s 1ms/step - loss: 0.4936 - main_output_loss: 0.4578 - aux_output_loss: 0.8154 - val_loss: 0.4899 - val_main_output_loss: 0.4536 - val_aux_output_loss: 0.8159\n",
      "Epoch 18/20\n",
      "363/363 [==============================] - 1s 1ms/step - loss: 0.4917 - main_output_loss: 0.4564 - aux_output_loss: 0.8094 - val_loss: 0.4883 - val_main_output_loss: 0.4527 - val_aux_output_loss: 0.8091\n",
      "Epoch 19/20\n",
      "363/363 [==============================] - 1s 1ms/step - loss: 0.4895 - main_output_loss: 0.4547 - aux_output_loss: 0.8026 - val_loss: 0.4862 - val_main_output_loss: 0.4510 - val_aux_output_loss: 0.8033\n",
      "Epoch 20/20\n",
      "363/363 [==============================] - 1s 1ms/step - loss: 0.4878 - main_output_loss: 0.4534 - aux_output_loss: 0.7973 - val_loss: 0.4845 - val_main_output_loss: 0.4498 - val_aux_output_loss: 0.7970\n"
     ]
    }
   ],
   "source": [
    "history = model.fit((X_train_A, X_train_B), (y_train, y_train), epochs=20,\n",
    "                    validation_data=((X_val_A, X_val_B), (y_val, y_val)))"
   ]
  },
  {
   "cell_type": "code",
   "execution_count": 78,
   "id": "06a3bb0f",
   "metadata": {},
   "outputs": [
    {
     "name": "stdout",
     "output_type": "stream",
     "text": [
      "162/162 [==============================] - 0s 982us/step - loss: 0.4979 - main_output_loss: 0.4628 - aux_output_loss: 0.8136\n"
     ]
    }
   ],
   "source": [
    "total_loss, main_loss, aux_loss = model.evaluate(\n",
    "    (X_test_A, X_test_B), (y_test, y_test))"
   ]
  },
  {
   "cell_type": "code",
   "execution_count": 82,
   "id": "04cce9cc",
   "metadata": {},
   "outputs": [],
   "source": [
    "y_pred_main, y_pred_aux = model.predict([X_new_A, X_new_B])"
   ]
  },
  {
   "cell_type": "code",
   "execution_count": 83,
   "id": "46edb11a",
   "metadata": {},
   "outputs": [
    {
     "data": {
      "text/plain": [
       "(array([[2.1159754],\n",
       "        [1.9336789],\n",
       "        [2.5815535]], dtype=float32),\n",
       " array([[2.0514996],\n",
       "        [2.1577902],\n",
       "        [2.46941  ]], dtype=float32))"
      ]
     },
     "execution_count": 83,
     "metadata": {},
     "output_type": "execute_result"
    }
   ],
   "source": [
    "y_pred_main, y_pred_aux"
   ]
  },
  {
   "cell_type": "markdown",
   "id": "9e2e82b5",
   "metadata": {},
   "source": [
    "# Subclassing API"
   ]
  },
  {
   "cell_type": "markdown",
   "id": "c5c664e3",
   "metadata": {},
   "source": [
    "И Sequential API, и функциональное API являются декларативным: вы объявляете слои, которые хотите использовать, и то, как они соединяются. Это позволяет сохранять, копировать, анализировать модели. Но с другой стороны - это их же и минус. Некоторые модели используют циклы, различные формы, условные ветвления и т.п. Для таких случаев императивного стиля программирования используется Subclassing API.\n",
    "\n",
    "Чтоб создать такой класс, нужно определить все слои прямо в конструкторе, а в методе `call` то, как они связываются."
   ]
  },
  {
   "cell_type": "markdown",
   "id": "a9575597",
   "metadata": {},
   "source": [
    "Создадим по аналогии с предыдущим примером класс `WideAndDeepModel`."
   ]
  },
  {
   "cell_type": "code",
   "execution_count": 85,
   "id": "a7a7f1e5",
   "metadata": {},
   "outputs": [],
   "source": [
    "class WideAndDeepModel(keras.models.Model):\n",
    "    def __init__(self, units=30, activation='relu', **kwargs):\n",
    "        super().__init__(**kwargs)\n",
    "        self.hidden1 = keras.layers.Dense(units, activation=activation)\n",
    "        self.hidden2 = keras.layers.Dense(units, activation=activation)\n",
    "        self.main_output = keras.layers.Dense(1)\n",
    "        self.aux_output = keras.layers.Dense(1)\n",
    "        \n",
    "    def call(self, inputs):\n",
    "        input_A, input_B = inputs\n",
    "        hidden1 = self.hidden1(input_B)\n",
    "        hidden2 = self.hidden2(hidden1)\n",
    "        concat = keras.layers.concatenate([input_A, hidden2])\n",
    "        main_output = self.main_output(concat)\n",
    "        aux_output = self.aux_output(hidden2)\n",
    "        \n",
    "        return main_output, aux_output"
   ]
  },
  {
   "cell_type": "code",
   "execution_count": 86,
   "id": "435204e5",
   "metadata": {},
   "outputs": [],
   "source": [
    "model = WideAndDeepModel(30)"
   ]
  },
  {
   "cell_type": "code",
   "execution_count": 92,
   "id": "671ab0fc",
   "metadata": {},
   "outputs": [
    {
     "name": "stdout",
     "output_type": "stream",
     "text": [
      "Epoch 1/20\n",
      "363/363 [==============================] - 1s 1ms/step - loss: 1.0717 - output_1_loss: 0.7999 - output_2_loss: 3.5179 - val_loss: 0.9383 - val_output_1_loss: 0.7129 - val_output_2_loss: 2.9666\n",
      "Epoch 2/20\n",
      "363/363 [==============================] - 0s 978us/step - loss: 0.8561 - output_1_loss: 0.6707 - output_2_loss: 2.5245 - val_loss: 0.8060 - val_output_1_loss: 0.6457 - val_output_2_loss: 2.2486\n",
      "Epoch 3/20\n",
      "363/363 [==============================] - 0s 976us/step - loss: 0.7598 - output_1_loss: 0.6237 - output_2_loss: 1.9846 - val_loss: 0.7338 - val_output_1_loss: 0.6114 - val_output_2_loss: 1.8355\n",
      "Epoch 4/20\n",
      "363/363 [==============================] - 0s 931us/step - loss: 0.7055 - output_1_loss: 0.5966 - output_2_loss: 1.6862 - val_loss: 0.6887 - val_output_1_loss: 0.5858 - val_output_2_loss: 1.6143\n",
      "Epoch 5/20\n",
      "363/363 [==============================] - 0s 920us/step - loss: 0.6708 - output_1_loss: 0.5762 - output_2_loss: 1.5225 - val_loss: 0.6582 - val_output_1_loss: 0.5657 - val_output_2_loss: 1.4912\n",
      "Epoch 6/20\n",
      "363/363 [==============================] - 0s 971us/step - loss: 0.6459 - output_1_loss: 0.5590 - output_2_loss: 1.4281 - val_loss: 0.6353 - val_output_1_loss: 0.5493 - val_output_2_loss: 1.4097\n",
      "Epoch 7/20\n",
      "363/363 [==============================] - 0s 893us/step - loss: 0.6266 - output_1_loss: 0.5446 - output_2_loss: 1.3642 - val_loss: 0.6176 - val_output_1_loss: 0.5358 - val_output_2_loss: 1.3542\n",
      "Epoch 8/20\n",
      "363/363 [==============================] - 0s 893us/step - loss: 0.6110 - output_1_loss: 0.5325 - output_2_loss: 1.3180 - val_loss: 0.6020 - val_output_1_loss: 0.5227 - val_output_2_loss: 1.3153\n",
      "Epoch 9/20\n",
      "363/363 [==============================] - 0s 915us/step - loss: 0.5974 - output_1_loss: 0.5214 - output_2_loss: 1.2814 - val_loss: 0.5892 - val_output_1_loss: 0.5124 - val_output_2_loss: 1.2802\n",
      "Epoch 10/20\n",
      "363/363 [==============================] - 0s 927us/step - loss: 0.5861 - output_1_loss: 0.5124 - output_2_loss: 1.2493 - val_loss: 0.5785 - val_output_1_loss: 0.5037 - val_output_2_loss: 1.2517\n",
      "Epoch 11/20\n",
      "363/363 [==============================] - 0s 912us/step - loss: 0.5762 - output_1_loss: 0.5044 - output_2_loss: 1.2219 - val_loss: 0.5695 - val_output_1_loss: 0.4965 - val_output_2_loss: 1.2263\n",
      "Epoch 12/20\n",
      "363/363 [==============================] - 0s 898us/step - loss: 0.5678 - output_1_loss: 0.4980 - output_2_loss: 1.1964 - val_loss: 0.5609 - val_output_1_loss: 0.4897 - val_output_2_loss: 1.2017\n",
      "Epoch 13/20\n",
      "363/363 [==============================] - 0s 918us/step - loss: 0.5604 - output_1_loss: 0.4924 - output_2_loss: 1.1724 - val_loss: 0.5547 - val_output_1_loss: 0.4852 - val_output_2_loss: 1.1801\n",
      "Epoch 14/20\n",
      "363/363 [==============================] - 0s 932us/step - loss: 0.5536 - output_1_loss: 0.4871 - output_2_loss: 1.1519 - val_loss: 0.5484 - val_output_1_loss: 0.4804 - val_output_2_loss: 1.1609\n",
      "Epoch 15/20\n",
      "363/363 [==============================] - 0s 906us/step - loss: 0.5481 - output_1_loss: 0.4832 - output_2_loss: 1.1322 - val_loss: 0.5426 - val_output_1_loss: 0.4762 - val_output_2_loss: 1.1410\n",
      "Epoch 16/20\n",
      "363/363 [==============================] - 0s 927us/step - loss: 0.5428 - output_1_loss: 0.4794 - output_2_loss: 1.1131 - val_loss: 0.5382 - val_output_1_loss: 0.4734 - val_output_2_loss: 1.1213\n",
      "Epoch 17/20\n",
      "363/363 [==============================] - 0s 933us/step - loss: 0.5377 - output_1_loss: 0.4758 - output_2_loss: 1.0948 - val_loss: 0.5335 - val_output_1_loss: 0.4703 - val_output_2_loss: 1.1026\n",
      "Epoch 18/20\n",
      "363/363 [==============================] - 0s 956us/step - loss: 0.5330 - output_1_loss: 0.4725 - output_2_loss: 1.0774 - val_loss: 0.5293 - val_output_1_loss: 0.4676 - val_output_2_loss: 1.0844\n",
      "Epoch 19/20\n",
      "363/363 [==============================] - 0s 936us/step - loss: 0.5291 - output_1_loss: 0.4701 - output_2_loss: 1.0597 - val_loss: 0.5260 - val_output_1_loss: 0.4658 - val_output_2_loss: 1.0684\n",
      "Epoch 20/20\n",
      "363/363 [==============================] - 0s 941us/step - loss: 0.5254 - output_1_loss: 0.4678 - output_2_loss: 1.0439 - val_loss: 0.5226 - val_output_1_loss: 0.4637 - val_output_2_loss: 1.0524\n"
     ]
    }
   ],
   "source": [
    "model.compile(loss='mse', loss_weights=[0.9, 0.1], \n",
    "              optimizer=keras.optimizers.SGD(learning_rate=1e-3))\n",
    "history = model.fit((X_train_A, X_train_B), (y_train, y_train), epochs=20,\n",
    "                   validation_data=((X_val_A, X_val_B), (y_val, y_val)))"
   ]
  },
  {
   "cell_type": "code",
   "execution_count": null,
   "id": "21f8a624",
   "metadata": {},
   "outputs": [],
   "source": []
  }
 ],
 "metadata": {
  "kernelspec": {
   "display_name": "Python 3 (ipykernel)",
   "language": "python",
   "name": "python3"
  },
  "language_info": {
   "codemirror_mode": {
    "name": "ipython",
    "version": 3
   },
   "file_extension": ".py",
   "mimetype": "text/x-python",
   "name": "python",
   "nbconvert_exporter": "python",
   "pygments_lexer": "ipython3",
   "version": "3.9.6"
  }
 },
 "nbformat": 4,
 "nbformat_minor": 5
}
