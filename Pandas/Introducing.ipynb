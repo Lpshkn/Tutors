{
 "cells": [
  {
   "cell_type": "code",
   "execution_count": 1,
   "metadata": {},
   "outputs": [],
   "source": [
    "import pandas as pd\n",
    "import numpy as np\n",
    "import matplotlib as mpl\n",
    "import matplotlib.pyplot as plt"
   ]
  },
  {
   "cell_type": "markdown",
   "metadata": {},
   "source": [
    "# Pandas"
   ]
  },
  {
   "cell_type": "markdown",
   "metadata": {},
   "source": [
    "**Pandas** - библиотека, обеспечивающая высокопроизводительное лёгкое взаимодействие со структурами данных и их анализ. Основная структура данных в Pandas - **DataFrame**, представляющий собой двумерную таблицу (прямо как электронная таблица с названиями колонок и строчек)."
   ]
  },
  {
   "cell_type": "markdown",
   "metadata": {},
   "source": [
    "Множество функций, доступных в Excel, доступны и с помощью Pandas, как например, создание сводных таблиц (pivot tables), вычисление одних колонок на основании других, отрисовка графиков и т.д. Также имеется возможность группировать строки по значениям столбца или джойнить (join tables) таблицы прямо как в SQL. Pandas также прекрасно справляется с временными рядами."
   ]
  },
  {
   "cell_type": "markdown",
   "metadata": {},
   "source": [
    "## Series объекты"
   ]
  },
  {
   "cell_type": "markdown",
   "metadata": {},
   "source": [
    "Библиотека Pandas оперирует следующими полезными структурами данных"
   ]
  },
  {
   "cell_type": "markdown",
   "metadata": {},
   "source": [
    "# apply / applymap / map"
   ]
  },
  {
   "cell_type": "markdown",
   "metadata": {},
   "source": [
    "Для `DataFrame` есть две функции, позволяющих применить необходимую функцию для элементов таблицы - это методы `apply` и `applymap`.\n",
    "\n",
    "Основная разница между ними в том, что функция `apply` применяется к элементам всей строки или столбца, в то время как метод `applymap` применяется поэлементно ко всей таблице. Название `applymap` пошло от того факта, что метод `map`, который есть у объекта `Series` применяется поэлементно ко всему объекту `Series`.  "
   ]
  },
  {
   "cell_type": "code",
   "execution_count": 7,
   "metadata": {},
   "outputs": [
    {
     "data": {
      "text/html": [
       "<div>\n",
       "<style scoped>\n",
       "    .dataframe tbody tr th:only-of-type {\n",
       "        vertical-align: middle;\n",
       "    }\n",
       "\n",
       "    .dataframe tbody tr th {\n",
       "        vertical-align: top;\n",
       "    }\n",
       "\n",
       "    .dataframe thead th {\n",
       "        text-align: right;\n",
       "    }\n",
       "</style>\n",
       "<table border=\"1\" class=\"dataframe\">\n",
       "  <thead>\n",
       "    <tr style=\"text-align: right;\">\n",
       "      <th></th>\n",
       "      <th>b</th>\n",
       "      <th>d</th>\n",
       "      <th>e</th>\n",
       "    </tr>\n",
       "  </thead>\n",
       "  <tbody>\n",
       "    <tr>\n",
       "      <th>z</th>\n",
       "      <td>-0.918327</td>\n",
       "      <td>-1.214585</td>\n",
       "      <td>-0.485532</td>\n",
       "    </tr>\n",
       "    <tr>\n",
       "      <th>x</th>\n",
       "      <td>-2.642260</td>\n",
       "      <td>-0.192416</td>\n",
       "      <td>1.266438</td>\n",
       "    </tr>\n",
       "    <tr>\n",
       "      <th>c</th>\n",
       "      <td>1.916433</td>\n",
       "      <td>1.594056</td>\n",
       "      <td>-0.793050</td>\n",
       "    </tr>\n",
       "    <tr>\n",
       "      <th>v</th>\n",
       "      <td>-1.181636</td>\n",
       "      <td>1.011530</td>\n",
       "      <td>0.529266</td>\n",
       "    </tr>\n",
       "  </tbody>\n",
       "</table>\n",
       "</div>"
      ],
      "text/plain": [
       "          b         d         e\n",
       "z -0.918327 -1.214585 -0.485532\n",
       "x -2.642260 -0.192416  1.266438\n",
       "c  1.916433  1.594056 -0.793050\n",
       "v -1.181636  1.011530  0.529266"
      ]
     },
     "execution_count": 7,
     "metadata": {},
     "output_type": "execute_result"
    }
   ],
   "source": [
    "df = pd.DataFrame(np.random.randn(4, 3), columns=list('bde'), index=list('zxcv'))\n",
    "df"
   ]
  },
  {
   "cell_type": "markdown",
   "metadata": {},
   "source": [
    "Применим такую функцию для строк и столбцов нашего `DataFrame`"
   ]
  },
  {
   "cell_type": "code",
   "execution_count": 8,
   "metadata": {},
   "outputs": [],
   "source": [
    "f = lambda x: x.max() - x.min()"
   ]
  },
  {
   "cell_type": "code",
   "execution_count": 19,
   "metadata": {
    "scrolled": true
   },
   "outputs": [
    {
     "name": "stdout",
     "output_type": "stream",
     "text": [
      "b    4.558693\n",
      "d    2.808640\n",
      "e    2.059488\n",
      "dtype: float64\n",
      "\n",
      "z    0.729053\n",
      "x    3.908698\n",
      "c    2.709483\n",
      "v    2.193167\n",
      "dtype: float64\n"
     ]
    }
   ],
   "source": [
    "print(df.apply(f, axis=0))\n",
    "print()\n",
    "print(df.apply(f, axis=1))"
   ]
  },
  {
   "cell_type": "markdown",
   "metadata": {},
   "source": [
    "Однако, применить ту же функцию с помощью метода `applymap` мы уже не сможем, т.к. `max` и `min` в объекте `Series` есть. Но тут фукнция применяется **поэлементно**, а значит к элементам типа `float64`, и таких функций для этого типа уже нет."
   ]
  },
  {
   "cell_type": "markdown",
   "metadata": {},
   "source": [
    "Поэтому применим другую функцию с помощью метода `applymap`."
   ]
  },
  {
   "cell_type": "code",
   "execution_count": 20,
   "metadata": {},
   "outputs": [],
   "source": [
    "f = lambda x: '%.2f' % x"
   ]
  },
  {
   "cell_type": "code",
   "execution_count": 21,
   "metadata": {},
   "outputs": [
    {
     "data": {
      "text/html": [
       "<div>\n",
       "<style scoped>\n",
       "    .dataframe tbody tr th:only-of-type {\n",
       "        vertical-align: middle;\n",
       "    }\n",
       "\n",
       "    .dataframe tbody tr th {\n",
       "        vertical-align: top;\n",
       "    }\n",
       "\n",
       "    .dataframe thead th {\n",
       "        text-align: right;\n",
       "    }\n",
       "</style>\n",
       "<table border=\"1\" class=\"dataframe\">\n",
       "  <thead>\n",
       "    <tr style=\"text-align: right;\">\n",
       "      <th></th>\n",
       "      <th>b</th>\n",
       "      <th>d</th>\n",
       "      <th>e</th>\n",
       "    </tr>\n",
       "  </thead>\n",
       "  <tbody>\n",
       "    <tr>\n",
       "      <th>z</th>\n",
       "      <td>-0.92</td>\n",
       "      <td>-1.21</td>\n",
       "      <td>-0.49</td>\n",
       "    </tr>\n",
       "    <tr>\n",
       "      <th>x</th>\n",
       "      <td>-2.64</td>\n",
       "      <td>-0.19</td>\n",
       "      <td>1.27</td>\n",
       "    </tr>\n",
       "    <tr>\n",
       "      <th>c</th>\n",
       "      <td>1.92</td>\n",
       "      <td>1.59</td>\n",
       "      <td>-0.79</td>\n",
       "    </tr>\n",
       "    <tr>\n",
       "      <th>v</th>\n",
       "      <td>-1.18</td>\n",
       "      <td>1.01</td>\n",
       "      <td>0.53</td>\n",
       "    </tr>\n",
       "  </tbody>\n",
       "</table>\n",
       "</div>"
      ],
      "text/plain": [
       "       b      d      e\n",
       "z  -0.92  -1.21  -0.49\n",
       "x  -2.64  -0.19   1.27\n",
       "c   1.92   1.59  -0.79\n",
       "v  -1.18   1.01   0.53"
      ]
     },
     "execution_count": 21,
     "metadata": {},
     "output_type": "execute_result"
    }
   ],
   "source": [
    "df.applymap(f)"
   ]
  },
  {
   "cell_type": "markdown",
   "metadata": {},
   "source": [
    "Метод `applymap` имеет параметр `na_action`. Если он стоит в значение `ignore`, то он просто пропускает это значение и возвращает таблицу, в которой это же пустое значение есть. Однако, если параметр в значение `None`, то возникнет исключение, если в таблице есть пустой элемент."
   ]
  },
  {
   "cell_type": "code",
   "execution_count": 29,
   "metadata": {},
   "outputs": [
    {
     "data": {
      "text/html": [
       "<div>\n",
       "<style scoped>\n",
       "    .dataframe tbody tr th:only-of-type {\n",
       "        vertical-align: middle;\n",
       "    }\n",
       "\n",
       "    .dataframe tbody tr th {\n",
       "        vertical-align: top;\n",
       "    }\n",
       "\n",
       "    .dataframe thead th {\n",
       "        text-align: right;\n",
       "    }\n",
       "</style>\n",
       "<table border=\"1\" class=\"dataframe\">\n",
       "  <thead>\n",
       "    <tr style=\"text-align: right;\">\n",
       "      <th></th>\n",
       "      <th>b</th>\n",
       "      <th>d</th>\n",
       "      <th>e</th>\n",
       "    </tr>\n",
       "  </thead>\n",
       "  <tbody>\n",
       "    <tr>\n",
       "      <th>z</th>\n",
       "      <td>-0.918327</td>\n",
       "      <td>-1.214585</td>\n",
       "      <td>-0.485532</td>\n",
       "    </tr>\n",
       "    <tr>\n",
       "      <th>x</th>\n",
       "      <td>-2.64226</td>\n",
       "      <td>-0.192416</td>\n",
       "      <td>1.266438</td>\n",
       "    </tr>\n",
       "    <tr>\n",
       "      <th>c</th>\n",
       "      <td>&lt;NA&gt;</td>\n",
       "      <td>1.594056</td>\n",
       "      <td>-0.793050</td>\n",
       "    </tr>\n",
       "    <tr>\n",
       "      <th>v</th>\n",
       "      <td>-1.181636</td>\n",
       "      <td>1.011530</td>\n",
       "      <td>0.529266</td>\n",
       "    </tr>\n",
       "  </tbody>\n",
       "</table>\n",
       "</div>"
      ],
      "text/plain": [
       "          b         d         e\n",
       "z -0.918327 -1.214585 -0.485532\n",
       "x  -2.64226 -0.192416  1.266438\n",
       "c      <NA>  1.594056 -0.793050\n",
       "v -1.181636  1.011530  0.529266"
      ]
     },
     "execution_count": 29,
     "metadata": {},
     "output_type": "execute_result"
    }
   ],
   "source": [
    "df.loc['c', 'b'] = pd.NA\n",
    "df"
   ]
  },
  {
   "cell_type": "code",
   "execution_count": 30,
   "metadata": {},
   "outputs": [
    {
     "data": {
      "text/html": [
       "<div>\n",
       "<style scoped>\n",
       "    .dataframe tbody tr th:only-of-type {\n",
       "        vertical-align: middle;\n",
       "    }\n",
       "\n",
       "    .dataframe tbody tr th {\n",
       "        vertical-align: top;\n",
       "    }\n",
       "\n",
       "    .dataframe thead th {\n",
       "        text-align: right;\n",
       "    }\n",
       "</style>\n",
       "<table border=\"1\" class=\"dataframe\">\n",
       "  <thead>\n",
       "    <tr style=\"text-align: right;\">\n",
       "      <th></th>\n",
       "      <th>b</th>\n",
       "      <th>d</th>\n",
       "      <th>e</th>\n",
       "    </tr>\n",
       "  </thead>\n",
       "  <tbody>\n",
       "    <tr>\n",
       "      <th>z</th>\n",
       "      <td>-0.92</td>\n",
       "      <td>-1.21</td>\n",
       "      <td>-0.49</td>\n",
       "    </tr>\n",
       "    <tr>\n",
       "      <th>x</th>\n",
       "      <td>-2.64</td>\n",
       "      <td>-0.19</td>\n",
       "      <td>1.27</td>\n",
       "    </tr>\n",
       "    <tr>\n",
       "      <th>c</th>\n",
       "      <td>&lt;NA&gt;</td>\n",
       "      <td>1.59</td>\n",
       "      <td>-0.79</td>\n",
       "    </tr>\n",
       "    <tr>\n",
       "      <th>v</th>\n",
       "      <td>-1.18</td>\n",
       "      <td>1.01</td>\n",
       "      <td>0.53</td>\n",
       "    </tr>\n",
       "  </tbody>\n",
       "</table>\n",
       "</div>"
      ],
      "text/plain": [
       "       b      d      e\n",
       "z  -0.92  -1.21  -0.49\n",
       "x  -2.64  -0.19   1.27\n",
       "c   <NA>   1.59  -0.79\n",
       "v  -1.18   1.01   0.53"
      ]
     },
     "execution_count": 30,
     "metadata": {},
     "output_type": "execute_result"
    }
   ],
   "source": [
    "df.applymap(f, na_action='ignore')"
   ]
  },
  {
   "cell_type": "markdown",
   "metadata": {},
   "source": [
    "Ну и соответственно, функция `map`, схожая с `applymap`."
   ]
  },
  {
   "cell_type": "code",
   "execution_count": 40,
   "metadata": {},
   "outputs": [
    {
     "data": {
      "text/plain": [
       "z    -1.21\n",
       "x    -0.19\n",
       "c     1.59\n",
       "v     1.01\n",
       "Name: d, dtype: object"
      ]
     },
     "execution_count": 40,
     "metadata": {},
     "output_type": "execute_result"
    }
   ],
   "source": [
    "df['d'].map(f)"
   ]
  },
  {
   "cell_type": "markdown",
   "metadata": {},
   "source": [
    "**Резюмируя**: \n",
    "1) `map` определен только для `Series`, `applymap` - только для `DataFrame`, а `apply` - для обоих.  \n",
    "\n",
    "2) `map` принимает как аргумент `dict`, `Series` или `callable` (это объект, который можно вызвать - он имеет метод `__call__`), в то время как `applymap` и `apply` принимают только `callable`.  \n",
    "\n",
    "3) `map` применяется поэлементно к `Series`, `applymap` - поэлементно к `DataFrame`, а `apply` также поэлементно, но предполагает более сложные операции и агрегации, поэтому поведение и возвращаемое значение зависит от функции. \n",
    "\n",
    "4) `map` означает отображение одного элемента в другой, поэтому он отлично оптимизирован для этого (к примеру, `df['A'].map({1: 'a', 2: 'b', 3: 'c'})`). `applymap` прекрасно справляется с поэлементной трансформацией нескольких строк/столбцов (к примеру, `df[['A', 'B', 'C']].applymap(str.strip)`). `apply` может использовать любую функцию, которая не может быть векторизована (к примеру, `df['sentences'].apply(nltk.sent_tokenize)`). \n",
    "\n",
    "Ну и напоследок, следует отметить, что `map` позволяет использовать словари, а значит, это сильно ускоряет процесс трансформации и является прекрасным способом ускорить код. Поэтому, там, где можно использовать словари при подобных операциях, стоит это использовать."
   ]
  },
  {
   "cell_type": "markdown",
   "metadata": {},
   "source": [
    "**Сноска**: векторизованной функцией называется функция, к которой применена функция `np.vectorize`. Это функция, которая принимает на вход np.array и работает аналогично функции `map` из чистого питона, за исключением того, что к ней применяет броадкастинг. Важно понимать, что векторизованные функции применяются не для повышения производительности, а для удобства прежде всего. По сути, под капотом у неё обычный цикл `for`."
   ]
  },
  {
   "cell_type": "markdown",
   "metadata": {},
   "source": [
    "# Series.str"
   ]
  },
  {
   "cell_type": "markdown",
   "metadata": {},
   "source": [
    "`str` - это векторизованные функции для строк, которые позволяют обрабатывать NaN значения. Они вдохновлены обычными строковыми фукнциями из Python и строковыми функциями из языка R. В `str` есть много различных функций, которые быстро и удобно обработают все строки, при этом, пустые значения будут опущены."
   ]
  },
  {
   "cell_type": "code",
   "execution_count": 50,
   "metadata": {},
   "outputs": [
    {
     "data": {
      "text/plain": [
       "0         AbCDeTG\n",
       "1    Fsdd_bfgfFDG\n",
       "2              55\n",
       "dtype: object"
      ]
     },
     "execution_count": 50,
     "metadata": {},
     "output_type": "execute_result"
    }
   ],
   "source": [
    "s = pd.Series(['AbCDeTG', 'Fsdd_bfgfFDG', 55])\n",
    "s"
   ]
  },
  {
   "cell_type": "code",
   "execution_count": 51,
   "metadata": {},
   "outputs": [
    {
     "data": {
      "text/plain": [
       "0         abcdetg\n",
       "1    fsdd_bfgffdg\n",
       "2             NaN\n",
       "dtype: object"
      ]
     },
     "execution_count": 51,
     "metadata": {},
     "output_type": "execute_result"
    }
   ],
   "source": [
    "s.str.lower()"
   ]
  },
  {
   "cell_type": "markdown",
   "metadata": {},
   "source": [
    "# NaN, целочисленные NA, и NA тип"
   ]
  },
  {
   "cell_type": "markdown",
   "metadata": {},
   "source": [
    "Поскольку тип `NA` изначально не поддерживается в NumPy и Python, разработчики встали перед выбором:\n",
    "* решение \"массив с маской\": есть массив данных и булев массив, указывающий имеется ли значение в элементе массива или нет\n",
    "* решение с использованием контрольного значения, битового шаблона или множества контрольных значений для обозначения `NA` по всем типам \n",
    "\n",
    "Был выбран второй вариант. Тогда это позволяет использовать всякие функции `isna`, `notna` по всем типам для обнаружения NA значений. Но и конечно, это повлекло за собой некоторые проблемы и компромиссы."
   ]
  },
  {
   "cell_type": "markdown",
   "metadata": {},
   "source": [
    "Поскольку в NumPy не встроена высокопроизводительная поддержка NA значений, то представлять целочисленные массивы с NA значениями стало невозможно. "
   ]
  },
  {
   "cell_type": "code",
   "execution_count": 2,
   "metadata": {},
   "outputs": [
    {
     "data": {
      "text/plain": [
       "a    1\n",
       "b    2\n",
       "c    3\n",
       "d    4\n",
       "e    5\n",
       "dtype: int64"
      ]
     },
     "execution_count": 2,
     "metadata": {},
     "output_type": "execute_result"
    }
   ],
   "source": [
    "s = pd.Series(range(1,6), index=list('abcde'))\n",
    "s"
   ]
  },
  {
   "cell_type": "code",
   "execution_count": 3,
   "metadata": {},
   "outputs": [
    {
     "data": {
      "text/plain": [
       "dtype('int64')"
      ]
     },
     "execution_count": 3,
     "metadata": {},
     "output_type": "execute_result"
    }
   ],
   "source": [
    "s.dtype"
   ]
  },
  {
   "cell_type": "code",
   "execution_count": 5,
   "metadata": {},
   "outputs": [
    {
     "data": {
      "text/plain": [
       "z    NaN\n",
       "x    NaN\n",
       "c    3.0\n",
       "v    NaN\n",
       "b    2.0\n",
       "dtype: float64"
      ]
     },
     "execution_count": 5,
     "metadata": {},
     "output_type": "execute_result"
    }
   ],
   "source": [
    "ss = s.reindex(list('zxcvb'))\n",
    "ss"
   ]
  },
  {
   "cell_type": "code",
   "execution_count": 6,
   "metadata": {},
   "outputs": [
    {
     "data": {
      "text/plain": [
       "dtype('float64')"
      ]
     },
     "execution_count": 6,
     "metadata": {},
     "output_type": "execute_result"
    }
   ],
   "source": [
    "ss.dtype"
   ]
  },
  {
   "cell_type": "markdown",
   "metadata": {},
   "source": [
    "Это делается из соображений производительности и сохранения памяти."
   ]
  },
  {
   "cell_type": "markdown",
   "metadata": {},
   "source": [
    "Однако, если совсем нужно, то можно представить объекты Series в виде специальных nullable-типов: `Int8Dtype`, `Int16Dtype`, `Int32Dtype` и `Int64Dtype`."
   ]
  },
  {
   "cell_type": "code",
   "execution_count": 12,
   "metadata": {},
   "outputs": [
    {
     "data": {
      "text/plain": [
       "q    1\n",
       "w    2\n",
       "e    3\n",
       "r    4\n",
       "t    5\n",
       "dtype: Int32"
      ]
     },
     "execution_count": 12,
     "metadata": {},
     "output_type": "execute_result"
    }
   ],
   "source": [
    "s = pd.Series(range(1, 6), index=list('qwert'), dtype=pd.Int32Dtype())\n",
    "s"
   ]
  },
  {
   "cell_type": "code",
   "execution_count": 13,
   "metadata": {},
   "outputs": [
    {
     "data": {
      "text/plain": [
       "q       1\n",
       "w       2\n",
       "e       3\n",
       "r       4\n",
       "z    <NA>\n",
       "dtype: Int32"
      ]
     },
     "execution_count": 13,
     "metadata": {},
     "output_type": "execute_result"
    }
   ],
   "source": [
    "s.reindex(list('qwerz'))"
   ]
  },
  {
   "cell_type": "markdown",
   "metadata": {},
   "source": [
    "`Int32Dtype` - это расширение стандартного `int32` из библиотеки NumPy. А нужны такие типы для того, чтобы представлять стандартные типы, которые занимают определенное количество памяти (1, 2, 4 или 8 байтов). Это нужно для того, чтобы эффективно расходовать памяти, когда работа идет с миллионами или миллиардами элементов в массиве. "
   ]
  },
  {
   "cell_type": "code",
   "execution_count": null,
   "metadata": {},
   "outputs": [],
   "source": []
  }
 ],
 "metadata": {
  "kernelspec": {
   "display_name": "Python 3 (ipykernel)",
   "language": "python",
   "name": "python3"
  },
  "language_info": {
   "codemirror_mode": {
    "name": "ipython",
    "version": 3
   },
   "file_extension": ".py",
   "mimetype": "text/x-python",
   "name": "python",
   "nbconvert_exporter": "python",
   "pygments_lexer": "ipython3",
   "version": "3.9.6"
  }
 },
 "nbformat": 4,
 "nbformat_minor": 4
}
