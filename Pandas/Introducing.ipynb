{
 "cells": [
  {
   "cell_type": "code",
   "execution_count": 3,
   "metadata": {},
   "outputs": [],
   "source": [
    "import pandas as pd\n",
    "import numpy as np\n",
    "import matplotlib as mpl\n",
    "import matplotlib.pyplot as plt"
   ]
  },
  {
   "cell_type": "markdown",
   "metadata": {},
   "source": [
    "# Pandas"
   ]
  },
  {
   "cell_type": "markdown",
   "metadata": {},
   "source": [
    "**Pandas** - библиотека, обеспечивающая высокопроизводительное лёгкое взаимодействие со структурами данных и их анализ. Основная структура данных в Pandas - **DataFrame**, представляющий собой двумерную таблицу (прямо как электронная таблица с названиями колонок и строчек)."
   ]
  },
  {
   "cell_type": "markdown",
   "metadata": {},
   "source": [
    "Множество функций, доступных в Excel, доступны и с помощью Pandas, как например, создание сводных таблиц (pivot tables), вычисление одних колонок на основании других, отрисовка графиков и т.д. Также имеется возможность группировать строки по значениям столбца или джойнить (join tables) таблицы прямо как в SQL. Pandas также прекрасно справляется с временными рядами."
   ]
  },
  {
   "cell_type": "markdown",
   "metadata": {},
   "source": [
    "## Series объекты"
   ]
  },
  {
   "cell_type": "markdown",
   "metadata": {},
   "source": [
    "Библиотека Pandas оперирует следующими полезными структурами данных"
   ]
  },
  {
   "cell_type": "markdown",
   "metadata": {},
   "source": [
    "# apply / applymap / map"
   ]
  },
  {
   "cell_type": "markdown",
   "metadata": {},
   "source": [
    "Для `DataFrame` есть две функции, позволяющих применить необходимую функцию для элементов таблицы - это методы `apply` и `applymap`.\n",
    "\n",
    "Основная разница между ними в том, что функция `apply` применяется к элементам всей строки или столбца, в то время как метод `applymap` применяется поэлементно ко всей таблице. Название `applymap` пошло от того факта, что метод `map`, который есть у объекта `Series` применяется поэлементно ко всему объекту `Series`.  "
   ]
  },
  {
   "cell_type": "code",
   "execution_count": 7,
   "metadata": {},
   "outputs": [
    {
     "data": {
      "text/html": [
       "<div>\n",
       "<style scoped>\n",
       "    .dataframe tbody tr th:only-of-type {\n",
       "        vertical-align: middle;\n",
       "    }\n",
       "\n",
       "    .dataframe tbody tr th {\n",
       "        vertical-align: top;\n",
       "    }\n",
       "\n",
       "    .dataframe thead th {\n",
       "        text-align: right;\n",
       "    }\n",
       "</style>\n",
       "<table border=\"1\" class=\"dataframe\">\n",
       "  <thead>\n",
       "    <tr style=\"text-align: right;\">\n",
       "      <th></th>\n",
       "      <th>b</th>\n",
       "      <th>d</th>\n",
       "      <th>e</th>\n",
       "    </tr>\n",
       "  </thead>\n",
       "  <tbody>\n",
       "    <tr>\n",
       "      <th>z</th>\n",
       "      <td>-0.918327</td>\n",
       "      <td>-1.214585</td>\n",
       "      <td>-0.485532</td>\n",
       "    </tr>\n",
       "    <tr>\n",
       "      <th>x</th>\n",
       "      <td>-2.642260</td>\n",
       "      <td>-0.192416</td>\n",
       "      <td>1.266438</td>\n",
       "    </tr>\n",
       "    <tr>\n",
       "      <th>c</th>\n",
       "      <td>1.916433</td>\n",
       "      <td>1.594056</td>\n",
       "      <td>-0.793050</td>\n",
       "    </tr>\n",
       "    <tr>\n",
       "      <th>v</th>\n",
       "      <td>-1.181636</td>\n",
       "      <td>1.011530</td>\n",
       "      <td>0.529266</td>\n",
       "    </tr>\n",
       "  </tbody>\n",
       "</table>\n",
       "</div>"
      ],
      "text/plain": [
       "          b         d         e\n",
       "z -0.918327 -1.214585 -0.485532\n",
       "x -2.642260 -0.192416  1.266438\n",
       "c  1.916433  1.594056 -0.793050\n",
       "v -1.181636  1.011530  0.529266"
      ]
     },
     "execution_count": 7,
     "metadata": {},
     "output_type": "execute_result"
    }
   ],
   "source": [
    "df = pd.DataFrame(np.random.randn(4, 3), columns=list('bde'), index=list('zxcv'))\n",
    "df"
   ]
  },
  {
   "cell_type": "markdown",
   "metadata": {},
   "source": [
    "Применим такую функцию для строк и столбцов нашего `DataFrame`"
   ]
  },
  {
   "cell_type": "code",
   "execution_count": 8,
   "metadata": {},
   "outputs": [],
   "source": [
    "f = lambda x: x.max() - x.min()"
   ]
  },
  {
   "cell_type": "code",
   "execution_count": 19,
   "metadata": {
    "scrolled": true
   },
   "outputs": [
    {
     "name": "stdout",
     "output_type": "stream",
     "text": [
      "b    4.558693\n",
      "d    2.808640\n",
      "e    2.059488\n",
      "dtype: float64\n",
      "\n",
      "z    0.729053\n",
      "x    3.908698\n",
      "c    2.709483\n",
      "v    2.193167\n",
      "dtype: float64\n"
     ]
    }
   ],
   "source": [
    "print(df.apply(f, axis=0))\n",
    "print()\n",
    "print(df.apply(f, axis=1))"
   ]
  },
  {
   "cell_type": "markdown",
   "metadata": {},
   "source": [
    "Однако, применить ту же функцию с помощью метода `applymap` мы уже не сможем, т.к. `max` и `min` в объекте `Series` есть. Но тут фукнция применяется **поэлементно**, а значит к элементам типа `float64`, и таких функций для этого типа уже нет."
   ]
  },
  {
   "cell_type": "markdown",
   "metadata": {},
   "source": [
    "Поэтому применим другую функцию с помощью метода `applymap`."
   ]
  },
  {
   "cell_type": "code",
   "execution_count": 20,
   "metadata": {},
   "outputs": [],
   "source": [
    "f = lambda x: '%.2f' % x"
   ]
  },
  {
   "cell_type": "code",
   "execution_count": 21,
   "metadata": {},
   "outputs": [
    {
     "data": {
      "text/html": [
       "<div>\n",
       "<style scoped>\n",
       "    .dataframe tbody tr th:only-of-type {\n",
       "        vertical-align: middle;\n",
       "    }\n",
       "\n",
       "    .dataframe tbody tr th {\n",
       "        vertical-align: top;\n",
       "    }\n",
       "\n",
       "    .dataframe thead th {\n",
       "        text-align: right;\n",
       "    }\n",
       "</style>\n",
       "<table border=\"1\" class=\"dataframe\">\n",
       "  <thead>\n",
       "    <tr style=\"text-align: right;\">\n",
       "      <th></th>\n",
       "      <th>b</th>\n",
       "      <th>d</th>\n",
       "      <th>e</th>\n",
       "    </tr>\n",
       "  </thead>\n",
       "  <tbody>\n",
       "    <tr>\n",
       "      <th>z</th>\n",
       "      <td>-0.92</td>\n",
       "      <td>-1.21</td>\n",
       "      <td>-0.49</td>\n",
       "    </tr>\n",
       "    <tr>\n",
       "      <th>x</th>\n",
       "      <td>-2.64</td>\n",
       "      <td>-0.19</td>\n",
       "      <td>1.27</td>\n",
       "    </tr>\n",
       "    <tr>\n",
       "      <th>c</th>\n",
       "      <td>1.92</td>\n",
       "      <td>1.59</td>\n",
       "      <td>-0.79</td>\n",
       "    </tr>\n",
       "    <tr>\n",
       "      <th>v</th>\n",
       "      <td>-1.18</td>\n",
       "      <td>1.01</td>\n",
       "      <td>0.53</td>\n",
       "    </tr>\n",
       "  </tbody>\n",
       "</table>\n",
       "</div>"
      ],
      "text/plain": [
       "       b      d      e\n",
       "z  -0.92  -1.21  -0.49\n",
       "x  -2.64  -0.19   1.27\n",
       "c   1.92   1.59  -0.79\n",
       "v  -1.18   1.01   0.53"
      ]
     },
     "execution_count": 21,
     "metadata": {},
     "output_type": "execute_result"
    }
   ],
   "source": [
    "df.applymap(f)"
   ]
  },
  {
   "cell_type": "markdown",
   "metadata": {},
   "source": [
    "Метод `applymap` имеет параметр `na_action`. Если он стоит в значение `ignore`, то он просто пропускает это значение и возвращает таблицу, в которой это же пустое значение есть. Однако, если параметр в значение `None`, то возникнет исключение, если в таблице есть пустой элемент."
   ]
  },
  {
   "cell_type": "code",
   "execution_count": 29,
   "metadata": {},
   "outputs": [
    {
     "data": {
      "text/html": [
       "<div>\n",
       "<style scoped>\n",
       "    .dataframe tbody tr th:only-of-type {\n",
       "        vertical-align: middle;\n",
       "    }\n",
       "\n",
       "    .dataframe tbody tr th {\n",
       "        vertical-align: top;\n",
       "    }\n",
       "\n",
       "    .dataframe thead th {\n",
       "        text-align: right;\n",
       "    }\n",
       "</style>\n",
       "<table border=\"1\" class=\"dataframe\">\n",
       "  <thead>\n",
       "    <tr style=\"text-align: right;\">\n",
       "      <th></th>\n",
       "      <th>b</th>\n",
       "      <th>d</th>\n",
       "      <th>e</th>\n",
       "    </tr>\n",
       "  </thead>\n",
       "  <tbody>\n",
       "    <tr>\n",
       "      <th>z</th>\n",
       "      <td>-0.918327</td>\n",
       "      <td>-1.214585</td>\n",
       "      <td>-0.485532</td>\n",
       "    </tr>\n",
       "    <tr>\n",
       "      <th>x</th>\n",
       "      <td>-2.64226</td>\n",
       "      <td>-0.192416</td>\n",
       "      <td>1.266438</td>\n",
       "    </tr>\n",
       "    <tr>\n",
       "      <th>c</th>\n",
       "      <td>&lt;NA&gt;</td>\n",
       "      <td>1.594056</td>\n",
       "      <td>-0.793050</td>\n",
       "    </tr>\n",
       "    <tr>\n",
       "      <th>v</th>\n",
       "      <td>-1.181636</td>\n",
       "      <td>1.011530</td>\n",
       "      <td>0.529266</td>\n",
       "    </tr>\n",
       "  </tbody>\n",
       "</table>\n",
       "</div>"
      ],
      "text/plain": [
       "          b         d         e\n",
       "z -0.918327 -1.214585 -0.485532\n",
       "x  -2.64226 -0.192416  1.266438\n",
       "c      <NA>  1.594056 -0.793050\n",
       "v -1.181636  1.011530  0.529266"
      ]
     },
     "execution_count": 29,
     "metadata": {},
     "output_type": "execute_result"
    }
   ],
   "source": [
    "df.loc['c', 'b'] = pd.NA\n",
    "df"
   ]
  },
  {
   "cell_type": "code",
   "execution_count": 30,
   "metadata": {},
   "outputs": [
    {
     "data": {
      "text/html": [
       "<div>\n",
       "<style scoped>\n",
       "    .dataframe tbody tr th:only-of-type {\n",
       "        vertical-align: middle;\n",
       "    }\n",
       "\n",
       "    .dataframe tbody tr th {\n",
       "        vertical-align: top;\n",
       "    }\n",
       "\n",
       "    .dataframe thead th {\n",
       "        text-align: right;\n",
       "    }\n",
       "</style>\n",
       "<table border=\"1\" class=\"dataframe\">\n",
       "  <thead>\n",
       "    <tr style=\"text-align: right;\">\n",
       "      <th></th>\n",
       "      <th>b</th>\n",
       "      <th>d</th>\n",
       "      <th>e</th>\n",
       "    </tr>\n",
       "  </thead>\n",
       "  <tbody>\n",
       "    <tr>\n",
       "      <th>z</th>\n",
       "      <td>-0.92</td>\n",
       "      <td>-1.21</td>\n",
       "      <td>-0.49</td>\n",
       "    </tr>\n",
       "    <tr>\n",
       "      <th>x</th>\n",
       "      <td>-2.64</td>\n",
       "      <td>-0.19</td>\n",
       "      <td>1.27</td>\n",
       "    </tr>\n",
       "    <tr>\n",
       "      <th>c</th>\n",
       "      <td>&lt;NA&gt;</td>\n",
       "      <td>1.59</td>\n",
       "      <td>-0.79</td>\n",
       "    </tr>\n",
       "    <tr>\n",
       "      <th>v</th>\n",
       "      <td>-1.18</td>\n",
       "      <td>1.01</td>\n",
       "      <td>0.53</td>\n",
       "    </tr>\n",
       "  </tbody>\n",
       "</table>\n",
       "</div>"
      ],
      "text/plain": [
       "       b      d      e\n",
       "z  -0.92  -1.21  -0.49\n",
       "x  -2.64  -0.19   1.27\n",
       "c   <NA>   1.59  -0.79\n",
       "v  -1.18   1.01   0.53"
      ]
     },
     "execution_count": 30,
     "metadata": {},
     "output_type": "execute_result"
    }
   ],
   "source": [
    "df.applymap(f, na_action='ignore')"
   ]
  },
  {
   "cell_type": "markdown",
   "metadata": {},
   "source": [
    "Ну и соответственно, функция `map`, схожая с `applymap`."
   ]
  },
  {
   "cell_type": "code",
   "execution_count": 40,
   "metadata": {},
   "outputs": [
    {
     "data": {
      "text/plain": [
       "z    -1.21\n",
       "x    -0.19\n",
       "c     1.59\n",
       "v     1.01\n",
       "Name: d, dtype: object"
      ]
     },
     "execution_count": 40,
     "metadata": {},
     "output_type": "execute_result"
    }
   ],
   "source": [
    "df['d'].map(f)"
   ]
  },
  {
   "cell_type": "markdown",
   "metadata": {},
   "source": [
    "**Резюмируя**: \n",
    "1) `map` определен только для `Series`, `applymap` - только для `DataFrame`, а `apply` - для обоих.  \n",
    "\n",
    "2) `map` принимает как аргумент `dict`, `Series` или `callable` (это объект, который можно вызвать - он имеет метод `__call__`), в то время как `applymap` и `apply` принимают только `callable`.  \n",
    "\n",
    "3) `map` применяется поэлементно к `Series`, `applymap` - поэлементно к `DataFrame`, а `apply` также поэлементно, но предполагает более сложные операции и агрегации, поэтому поведение и возвращаемое значение зависит от функции. \n",
    "\n",
    "4) `map` означает отображение одного элемента в другой, поэтому он отлично оптимизирован для этого (к примеру, `df['A'].map({1: 'a', 2: 'b', 3: 'c'})`). `applymap` прекрасно справляется с поэлементной трансформацией нескольких строк/столбцов (к примеру, `df[['A', 'B', 'C']].applymap(str.strip)`). `apply` может использовать любую функцию, которая не может быть векторизована (к примеру, `df['sentences'].apply(nltk.sent_tokenize)`). \n",
    "\n",
    "Ну и напоследок, следует отметить, что `map` позволяет использовать словари, а значит, это сильно ускоряет процесс трансформации и является прекрасным способом ускорить код. Поэтому, там, где можно использовать словари при подобных операциях, стоит это использовать."
   ]
  },
  {
   "cell_type": "code",
   "execution_count": null,
   "metadata": {},
   "outputs": [],
   "source": []
  }
 ],
 "metadata": {
  "kernelspec": {
   "display_name": "Python 3",
   "language": "python",
   "name": "python3"
  },
  "language_info": {
   "codemirror_mode": {
    "name": "ipython",
    "version": 3
   },
   "file_extension": ".py",
   "mimetype": "text/x-python",
   "name": "python",
   "nbconvert_exporter": "python",
   "pygments_lexer": "ipython3",
   "version": "3.9.2"
  }
 },
 "nbformat": 4,
 "nbformat_minor": 4
}
